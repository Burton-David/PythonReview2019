{
 "cells": [
  {
   "cell_type": "code",
   "execution_count": 68,
   "metadata": {},
   "outputs": [],
   "source": [
    "import math"
   ]
  },
  {
   "cell_type": "markdown",
   "metadata": {},
   "source": [
    "# Language \n",
    "## A High-Level Overview"
   ]
  },
  {
   "cell_type": "markdown",
   "metadata": {},
   "source": [
    "Computers are able to make billions of calculations per a second.  However, computers \n",
    "only understand machine language.  Machine language is binary or hexadecimal instructions which a computer can respond to directly.  And when I began my journey towards becoming a data scientist I was told that all I really need to know about machine language as a data scientist is that it exists, and to focus on learning a higher level language.  But, as somebody who loves to learn languages and has learned to speak quite a few, this introduction to programming annoyed me.\n",
    "\n",
    "Language is so much more than words.  Language is developed to fulfill essential needs within a society.  Language is how internal thoughts are thought.  Languages are given style based upon personality, necessities and function.  An understanding of a language is the foundation to understanding the culture which speaks the language.   \n",
    "\n",
    "Therefore, if you want to understand computers it is essential to have a basic understanding of a computer's native language.  Thankfully, this is an easy lesson.  There isn't really a whole lot to computers.  They are a bunch of circuits that can be either on or off.  It a language that has only 2 unique words, zero or one, and is communicated as a \"bit\".  Now, computers wouldn't be able to do much with a language that has only 2 unique words.  Therefore, computers string together their 1's and 0's to form more their machine language.  But, at the base of all internal communication with computers there are only 2 options.  On or off / 1 or 0 and anything written in Python, SQL, Java, C, etc...Is translated into 1's and 0's for a computer to work.  \n",
    "\n",
    "To communicate with computers we use higher level languages such as Python.  A compiler translates the higher level language into the machine language (binary). \n",
    "\n",
    "Every higher level language has a trade-off.  Performance vs Production.  C is an extremely high performing language; however, it is labor intensive to write programs in C and therefore almost never used.  Most, opt for languages such as Java and Python when developing software.  These languages trade off a little bit of performance for the ability to be written and maintained easily.  \n",
    "\n",
    "Certain languages do better for certain applications.  Python is a great general purpose language that is used frequently with data applications and therefore it is used a lot by data scientists.  "
   ]
  },
  {
   "cell_type": "markdown",
   "metadata": {},
   "source": [
    "# The Print Function\n",
    "Displays the element or the expression.  "
   ]
  },
  {
   "cell_type": "code",
   "execution_count": 1,
   "metadata": {},
   "outputs": [
    {
     "name": "stdout",
     "output_type": "stream",
     "text": [
      "4\n"
     ]
    }
   ],
   "source": [
    "print(4)"
   ]
  },
  {
   "cell_type": "code",
   "execution_count": 2,
   "metadata": {},
   "outputs": [
    {
     "name": "stdout",
     "output_type": "stream",
     "text": [
      "8\n"
     ]
    }
   ],
   "source": [
    "print(4+4)"
   ]
  },
  {
   "cell_type": "code",
   "execution_count": 3,
   "metadata": {
    "scrolled": true
   },
   "outputs": [
    {
     "name": "stdout",
     "output_type": "stream",
     "text": [
      "Hello\n"
     ]
    }
   ],
   "source": [
    "print('Hello')"
   ]
  },
  {
   "cell_type": "markdown",
   "metadata": {},
   "source": [
    "\\n = new line\n",
    "\\t = tab"
   ]
  },
  {
   "cell_type": "code",
   "execution_count": 7,
   "metadata": {},
   "outputs": [
    {
     "name": "stdout",
     "output_type": "stream",
     "text": [
      "Hello \n",
      "World\n"
     ]
    }
   ],
   "source": [
    "print('Hello \\nWorld')"
   ]
  },
  {
   "cell_type": "code",
   "execution_count": 10,
   "metadata": {},
   "outputs": [
    {
     "name": "stdout",
     "output_type": "stream",
     "text": [
      "Hello \n",
      "\tWorld\n"
     ]
    }
   ],
   "source": [
    "print('Hello \\n\\tWorld')"
   ]
  },
  {
   "cell_type": "code",
   "execution_count": 39,
   "metadata": {},
   "outputs": [
    {
     "name": "stdout",
     "output_type": "stream",
     "text": [
      "One, 'two', \"three\", four, \n",
      "\\five\\once, 'I' caught a \n",
      "fish '//alive\\\\'\n"
     ]
    }
   ],
   "source": [
    "print(\"One, \\'two\\', \\\"three\\\", four, \\n\\\\five\\\\once, \\'I' caught a \\nfish \\'//alive\\\\\\\\'\")"
   ]
  },
  {
   "cell_type": "markdown",
   "metadata": {},
   "source": [
    "# Variables\n",
    "Variables are assigned to the RAM (Random Access Memory). "
   ]
  },
  {
   "cell_type": "markdown",
   "metadata": {},
   "source": [
    "## variable naming conventions in Python"
   ]
  },
  {
   "cell_type": "markdown",
   "metadata": {},
   "source": [
    "- A variable name must start with a letter or the underscore character.\n",
    "- A variable name cannot start with a number.\n",
    "- A variable name can only contain alpha-numeric characters and underscores (A-z, 0-9, and _ )\n",
    "- Variable names are case-sensitive (age, Age and AGE are three different variables)"
   ]
  },
  {
   "cell_type": "markdown",
   "metadata": {},
   "source": [
    "Words you cannot use as variable names"
   ]
  },
  {
   "cell_type": "code",
   "execution_count": 56,
   "metadata": {},
   "outputs": [
    {
     "name": "stdout",
     "output_type": "stream",
     "text": [
      "\n",
      "Welcome to Python 3.8's help utility!\n",
      "\n",
      "If this is your first time using Python, you should definitely check out\n",
      "the tutorial on the Internet at https://docs.python.org/3.8/tutorial/.\n",
      "\n",
      "Enter the name of any module, keyword, or topic to get help on writing\n",
      "Python programs and using Python modules.  To quit this help utility and\n",
      "return to the interpreter, just type \"quit\".\n",
      "\n",
      "To get a list of available modules, keywords, symbols, or topics, type\n",
      "\"modules\", \"keywords\", \"symbols\", or \"topics\".  Each module also comes\n",
      "with a one-line summary of what it does; to list the modules whose name\n",
      "or summary contain a given string such as \"spam\", type \"modules spam\".\n",
      "\n",
      "help> keywords\n",
      "\n",
      "Here is a list of the Python keywords.  Enter any keyword to get more help.\n",
      "\n",
      "False               class               from                or\n",
      "None                continue            global              pass\n",
      "True                def                 if                  raise\n",
      "and                 del                 import              return\n",
      "as                  elif                in                  try\n",
      "assert              else                is                  while\n",
      "async               except              lambda              with\n",
      "await               finally             nonlocal            yield\n",
      "break               for                 not                 \n",
      "\n",
      "\n",
      "You are now leaving help and returning to the Python interpreter.\n",
      "If you want to ask for help on a particular object directly from the\n",
      "interpreter, you can type \"help(object)\".  Executing \"help('string')\"\n",
      "has the same effect as typing a particular string at the help> prompt.\n"
     ]
    }
   ],
   "source": [
    "help()"
   ]
  },
  {
   "cell_type": "markdown",
   "metadata": {},
   "source": [
    "### example of how memory is stored and accessed with variables"
   ]
  },
  {
   "cell_type": "code",
   "execution_count": 41,
   "metadata": {},
   "outputs": [
    {
     "data": {
      "text/plain": [
       "6"
      ]
     },
     "execution_count": 41,
     "metadata": {},
     "output_type": "execute_result"
    }
   ],
   "source": [
    "x = 6\n",
    "x"
   ]
  },
  {
   "cell_type": "code",
   "execution_count": 42,
   "metadata": {},
   "outputs": [
    {
     "data": {
      "text/plain": [
       "5"
      ]
     },
     "execution_count": 42,
     "metadata": {},
     "output_type": "execute_result"
    }
   ],
   "source": [
    "y = 5\n",
    "y"
   ]
  },
  {
   "cell_type": "code",
   "execution_count": 43,
   "metadata": {},
   "outputs": [
    {
     "data": {
      "text/plain": [
       "11"
      ]
     },
     "execution_count": 43,
     "metadata": {},
     "output_type": "execute_result"
    }
   ],
   "source": [
    "z = x+y\n",
    "z"
   ]
  },
  {
   "cell_type": "code",
   "execution_count": 44,
   "metadata": {},
   "outputs": [
    {
     "data": {
      "text/plain": [
       "100"
      ]
     },
     "execution_count": 44,
     "metadata": {},
     "output_type": "execute_result"
    }
   ],
   "source": [
    "x = 100\n",
    "x"
   ]
  },
  {
   "cell_type": "code",
   "execution_count": 45,
   "metadata": {},
   "outputs": [
    {
     "data": {
      "text/plain": [
       "11"
      ]
     },
     "execution_count": 45,
     "metadata": {},
     "output_type": "execute_result"
    }
   ],
   "source": [
    "z"
   ]
  },
  {
   "cell_type": "code",
   "execution_count": 46,
   "metadata": {},
   "outputs": [
    {
     "data": {
      "text/plain": [
       "105"
      ]
     },
     "execution_count": 46,
     "metadata": {},
     "output_type": "execute_result"
    }
   ],
   "source": [
    "z = x+y\n",
    "z"
   ]
  },
  {
   "cell_type": "markdown",
   "metadata": {},
   "source": [
    "## User Input "
   ]
  },
  {
   "cell_type": "code",
   "execution_count": 52,
   "metadata": {},
   "outputs": [
    {
     "name": "stdout",
     "output_type": "stream",
     "text": [
      "How many apples do you have?\n",
      " >>>> 4\n"
     ]
    },
    {
     "data": {
      "text/plain": [
       "4"
      ]
     },
     "execution_count": 52,
     "metadata": {},
     "output_type": "execute_result"
    }
   ],
   "source": [
    "apples = int(input('How many apples do you have?\\n >>>> '))\n",
    "apples"
   ]
  },
  {
   "cell_type": "markdown",
   "metadata": {},
   "source": [
    "User input is stored as a string by default."
   ]
  },
  {
   "cell_type": "markdown",
   "metadata": {},
   "source": [
    "## practice"
   ]
  },
  {
   "cell_type": "markdown",
   "metadata": {},
   "source": [
    "1) Ask the user for radius of a circle then print the area.\n",
    "2) Convert Fahrenheit to Celsius.\n",
    "3) Obtain the sum of 2 integers."
   ]
  },
  {
   "cell_type": "code",
   "execution_count": 69,
   "metadata": {},
   "outputs": [
    {
     "name": "stdout",
     "output_type": "stream",
     "text": [
      "What is the radius of the circle?>>>> 16\n",
      "For a circle with a radius of 16 the area is 804.247719318987.\n"
     ]
    }
   ],
   "source": [
    "r = int(input(\"What is the radius of the circle?>>>> \"))\n",
    "area = math.pi * r**2 \n",
    "print(f\"For a circle with a radius of {r} the area is {area}.\")"
   ]
  },
  {
   "cell_type": "markdown",
   "metadata": {},
   "source": [
    "2) Convert Fahrenheit to Celsius."
   ]
  },
  {
   "cell_type": "code",
   "execution_count": 74,
   "metadata": {},
   "outputs": [
    {
     "name": "stdout",
     "output_type": "stream",
     "text": [
      "Type the degrees Fahrenheit you would like to convert into Celsius.>>>>-40\n",
      "-40 degrees Fahrenheit is equivilant to -40.0 degrees celsius.\n"
     ]
    }
   ],
   "source": [
    "fahrenheit = int(input(\"Type the degrees Fahrenheit you would like to convert into Celsius.>>>>\"))\n",
    "celsius = ((fahrenheit-32)*5/9)\n",
    "print(f\"{fahrenheit} degrees Fahrenheit is equivilant to {celsius} degrees celsius.\")"
   ]
  },
  {
   "cell_type": "code",
   "execution_count": 76,
   "metadata": {},
   "outputs": [
    {
     "name": "stdout",
     "output_type": "stream",
     "text": [
      "Type the first number you'd like to add >>>2\n",
      "Type the second number you'd like to add >>>3\n",
      "2+3=5\n"
     ]
    }
   ],
   "source": [
    "x = int(input(\"Type the first number you'd like to add >>>\"))\n",
    "y = int(input(\"Type the second number you'd like to add >>>\"))\n",
    "z = x+y\n",
    "print(f\"{x}+{y}={z}\")"
   ]
  },
  {
   "cell_type": "code",
   "execution_count": null,
   "metadata": {},
   "outputs": [],
   "source": []
  }
 ],
 "metadata": {
  "kernelspec": {
   "display_name": "Python 3",
   "language": "python",
   "name": "python3"
  },
  "language_info": {
   "codemirror_mode": {
    "name": "ipython",
    "version": 3
   },
   "file_extension": ".py",
   "mimetype": "text/x-python",
   "name": "python",
   "nbconvert_exporter": "python",
   "pygments_lexer": "ipython3",
   "version": "3.8.0"
  },
  "varInspector": {
   "cols": {
    "lenName": 16,
    "lenType": 16,
    "lenVar": 40
   },
   "kernels_config": {
    "python": {
     "delete_cmd_postfix": "",
     "delete_cmd_prefix": "del ",
     "library": "var_list.py",
     "varRefreshCmd": "print(var_dic_list())"
    },
    "r": {
     "delete_cmd_postfix": ") ",
     "delete_cmd_prefix": "rm(",
     "library": "var_list.r",
     "varRefreshCmd": "cat(var_dic_list()) "
    }
   },
   "types_to_exclude": [
    "module",
    "function",
    "builtin_function_or_method",
    "instance",
    "_Feature"
   ],
   "window_display": false
  }
 },
 "nbformat": 4,
 "nbformat_minor": 2
}
