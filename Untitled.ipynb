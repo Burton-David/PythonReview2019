{
 "cells": [
  {
   "cell_type": "markdown",
   "metadata": {},
   "source": [
    "Computers are able to make billions of calculations per a second.  However, computers only understand machine language.  Machine language is binary or hexadecimal instructions which a computer can respond to directly.  And when I began my journey towards becoming a data scientist I was told that all I really need to know about machine language as a data scientist is that it exists, and to focus on learning a higher level language.  But, as somebody who loves to learn languages and has learned to speak quite a few, this introduction to programming annoyed me.\n",
    "\n",
    "Language is so much more than words.  Language is developed to fill essential needs within a society.  Language is how internal thoughts are thought.  Languages are given style based upon personality, necessities and function.  An understanding of a language is the foundation to understanding the culture which speaks that language.  \n",
    "\n",
    "Therefore, if you want to understand computers it is essential to have a basic understanding of a computer's native language.  Thankfully, this is an easy lesson.  There isn't really a whole lot to computers.  They are a bunch of circuits that can be either on or off.  It a language that has only 2 unique words, zero or one, and is communicated as a \"bit\".\n",
    "\n",
    "To communicate with computers we use higher level languages such as Python.  A compiler translates the higher level language into the machine language (binary). \n",
    "\n",
    "Every higher level language has a trade-off.  Performance vs Production.  C is an extremely high performing language; however, it is labor intensive to write programs in C and therefore almost never used.  Most, opt for languages such as Java and Python when developing software.  These languages trade off a little bit of performance for the ability to be written and maintained easily.  \n",
    "\n",
    "Certain languages do better for certain applications.  Python is a great general purpose language that is used frequently with data applications and therefore it is used a lot by data scientists.  "
   ]
  }
 ],
 "metadata": {
  "kernelspec": {
   "display_name": "Python 3",
   "language": "python",
   "name": "python3"
  },
  "language_info": {
   "codemirror_mode": {
    "name": "ipython",
    "version": 3
   },
   "file_extension": ".py",
   "mimetype": "text/x-python",
   "name": "python",
   "nbconvert_exporter": "python",
   "pygments_lexer": "ipython3",
   "version": "3.8.0"
  },
  "varInspector": {
   "cols": {
    "lenName": 16,
    "lenType": 16,
    "lenVar": 40
   },
   "kernels_config": {
    "python": {
     "delete_cmd_postfix": "",
     "delete_cmd_prefix": "del ",
     "library": "var_list.py",
     "varRefreshCmd": "print(var_dic_list())"
    },
    "r": {
     "delete_cmd_postfix": ") ",
     "delete_cmd_prefix": "rm(",
     "library": "var_list.r",
     "varRefreshCmd": "cat(var_dic_list()) "
    }
   },
   "types_to_exclude": [
    "module",
    "function",
    "builtin_function_or_method",
    "instance",
    "_Feature"
   ],
   "window_display": false
  }
 },
 "nbformat": 4,
 "nbformat_minor": 2
}
